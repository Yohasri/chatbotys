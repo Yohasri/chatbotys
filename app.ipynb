{
 "cells": [
  {
   "cell_type": "code",
   "execution_count": 4,
   "metadata": {},
   "outputs": [
    {
     "ename": "ModuleNotFoundError",
     "evalue": "No module named 'sqlalchemy'",
     "output_type": "error",
     "traceback": [
      "\u001b[1;31m---------------------------------------------------------------------------\u001b[0m",
      "\u001b[1;31mModuleNotFoundError\u001b[0m                       Traceback (most recent call last)",
      "Cell \u001b[1;32mIn[4], line 3\u001b[0m\n\u001b[0;32m      1\u001b[0m \u001b[38;5;28;01mfrom\u001b[39;00m \u001b[38;5;21;01mflask\u001b[39;00m \u001b[38;5;28;01mimport\u001b[39;00m Flask, request, jsonify\n\u001b[0;32m      2\u001b[0m \u001b[38;5;28;01mfrom\u001b[39;00m \u001b[38;5;21;01mflask_cors\u001b[39;00m \u001b[38;5;28;01mimport\u001b[39;00m CORS\n\u001b[1;32m----> 3\u001b[0m \u001b[38;5;28;01mfrom\u001b[39;00m \u001b[38;5;21;01msqlalchemy\u001b[39;00m \u001b[38;5;28;01mimport\u001b[39;00m Column, Integer, String, create_engine\n\u001b[0;32m      4\u001b[0m \u001b[38;5;28;01mfrom\u001b[39;00m \u001b[38;5;21;01msqlalchemy\u001b[39;00m\u001b[38;5;21;01m.\u001b[39;00m\u001b[38;5;21;01mext\u001b[39;00m\u001b[38;5;21;01m.\u001b[39;00m\u001b[38;5;21;01mdeclarative\u001b[39;00m \u001b[38;5;28;01mimport\u001b[39;00m declarative_base\n\u001b[0;32m      5\u001b[0m \u001b[38;5;28;01mfrom\u001b[39;00m \u001b[38;5;21;01msqlalchemy\u001b[39;00m\u001b[38;5;21;01m.\u001b[39;00m\u001b[38;5;21;01morm\u001b[39;00m \u001b[38;5;28;01mimport\u001b[39;00m sessionmaker\n",
      "\u001b[1;31mModuleNotFoundError\u001b[0m: No module named 'sqlalchemy'"
     ]
    }
   ],
   "source": [
    "from flask import Flask, request, jsonify\n",
    "from flask_cors import CORS\n",
    "from sqlalchemy import Column, Integer, String, create_engine\n",
    "from sqlalchemy.ext.declarative import declarative_base\n",
    "from sqlalchemy.orm import sessionmaker\n",
    "\n",
    "app = Flask(__name__)\n",
    "CORS(app)\n",
    "\n",
    "# Database setup\n",
    "Base = declarative_base()\n",
    "engine = create_engine('sqlite:///employees.db')\n",
    "Session = sessionmaker(bind=engine)\n",
    "session = Session()\n",
    "\n",
    "# Employee model\n",
    "class Employee(Base):\n",
    "    __tablename__ = 'employees'\n",
    "    id = Column(Integer, primary_key=True, autoincrement=True)\n",
    "    name = Column(String, nullable=False)\n",
    "    role = Column(String, nullable=False)\n",
    "    projects = Column(String, nullable=False)\n",
    "    leaves = Column(Integer, nullable=False)\n",
    "\n",
    "Base.metadata.create_all(engine)\n",
    "\n",
    "# Save employee details\n",
    "@app.route('/save', methods=['POST'])\n",
    "def save_employee():\n",
    "    data = request.json\n",
    "    employee = Employee(\n",
    "        name=data['name'],\n",
    "        role=data['role'],\n",
    "        projects=data['projects'],\n",
    "        leaves=data['leaves']\n",
    "    )\n",
    "    session.add(employee)\n",
    "    session.commit()\n",
    "    return jsonify({'message': 'Employee saved successfully!'})\n",
    "\n",
    "# Retrieve all employees\n",
    "@app.route('/retrieve', methods=['GET'])\n",
    "def retrieve_employees():\n",
    "    employees = session.query(Employee).all()\n",
    "    result = [\n",
    "        {\n",
    "            'id': emp.id,\n",
    "            'name': emp.name,\n",
    "            'role': emp.role,\n",
    "            'projects': emp.projects,\n",
    "            'leaves': emp.leaves\n",
    "        }\n",
    "        for emp in employees\n",
    "    ]\n",
    "    return jsonify(result)\n",
    "\n",
    "# Retrieve details about an employee by name\n",
    "@app.route('/query', methods=['POST'])\n",
    "def query_employee():\n",
    "    name = request.json.get('name')\n",
    "    employee = session.query(Employee).filter(Employee.name.ilike(f'%{name}%')).first()\n",
    "    if employee:\n",
    "        response = {\n",
    "            'name': employee.name,\n",
    "            'role': employee.role,\n",
    "            'projects': employee.projects,\n",
    "            'leaves': employee.leaves\n",
    "        }\n",
    "        return jsonify(response)\n",
    "    return jsonify({'message': 'Employee not found'}), 404\n",
    "\n",
    "if __name__ == '__main__':\n",
    "    app.run(debug=True)\n"
   ]
  },
  {
   "cell_type": "code",
   "execution_count": null,
   "metadata": {},
   "outputs": [],
   "source": []
  },
  {
   "cell_type": "code",
   "execution_count": null,
   "metadata": {},
   "outputs": [],
   "source": []
  }
 ],
 "metadata": {
  "kernelspec": {
   "display_name": "Python 3",
   "language": "python",
   "name": "python3"
  },
  "language_info": {
   "codemirror_mode": {
    "name": "ipython",
    "version": 3
   },
   "file_extension": ".py",
   "mimetype": "text/x-python",
   "name": "python",
   "nbconvert_exporter": "python",
   "pygments_lexer": "ipython3",
   "version": "3.13.0"
  }
 },
 "nbformat": 4,
 "nbformat_minor": 2
}
